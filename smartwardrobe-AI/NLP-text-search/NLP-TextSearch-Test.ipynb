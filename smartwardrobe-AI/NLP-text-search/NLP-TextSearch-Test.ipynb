{
 "cells": [
  {
   "cell_type": "code",
   "execution_count": null,
   "id": "48c63827-d144-4992-9f38-dbbffb2ecc28",
   "metadata": {},
   "outputs": [],
   "source": [
    "# Tool: https://spacy.io/usage\n",
    "# Tutorial: https://realpython.com/natural-language-processing-spacy-python/\n",
    "\n",
    "# 1. Install and Set Up spaCy\n",
    "pip3 install spacy\n",
    "# 2. Download a pre-trained English model \n",
    "python -m spacy download en_core_web_sm\n",
    "\n",
    "# more accurate model\n",
    "python -m spacy download en_core_web_trf"
   ]
  },
  {
   "cell_type": "code",
   "execution_count": null,
   "id": "3763c9d4-5a90-415f-a879-6020b1ca4fad",
   "metadata": {},
   "outputs": [],
   "source": [
    "\n",
    "import spacy\n",
    "\n",
    "# 3. loading the language model\n",
    "nlp = spacy.load(\"en_core_web_trf\")\n",
    "\n",
    "# process user input (the search query)\n",
    " ## This involves tokenizing the text, \n",
    " ## identifying part-of-speech (POS) tags, \n",
    " ## and named entities (like products, colors, and prices).\n",
    "\n",
    "# Example user input\n",
    "user_query = \"I'm looking for a red dress under 100 EUR\"\n",
    "# user_query = \"Find me a jacket under $50\"\n",
    "# user_query =\"Show me blue shoes for running\"\n",
    "\n",
    "#user_query = \"It’s official: Apple is the first U.S. public company to reach a $1 trillion market value\"\n",
    "\n",
    "# 4. Process the text with the spaCy pipeline\n",
    "doc = nlp(user_query)\n",
    "\n",
    "# Tokenization\n",
    "# 5. Extract tokens and filter out stopwords\n",
    "\n",
    "tokens = [token.text for token in doc if not token.is_stop and not token.is_punct]\n",
    "print(tokens)\n",
    "# Output: ['looking', 'red', 'dress', '100']\n",
    "\n",
    "# for token in doc:\n",
    "#     # Get the token text, part-of-speech tag and dependency label\n",
    "#     token_text = token.text\n",
    "#     token_pos = token.pos_\n",
    "#     token_dep = token.dep_\n",
    "#     # This is for formatting only\n",
    "#     print(f\"{token_text:<12}{token_pos:<10}{token_dep:<10}\")\n",
    "\n",
    "# Named Entity Recognition (NER)\n",
    "# 6. extract key entities from the query using spaCy’s NER feature\n",
    "# example: product type (\"dress\"), color (\"red\"), and price (\"$100\")\n",
    "\n",
    "# Access the recognized named entities\n",
    "for ent in doc.ents:\n",
    "    print(ent.text, ent.label_)\n",
    "# Output:\n",
    "# red COLOR\n",
    "# $100 MONEY\n",
    "\n",
    "# Rule-based matching: create custom entity rules\n",
    "from spacy.matcher import Matcher\n",
    "\n",
    "matcher = Matcher(nlp.vocab)\n",
    "\n",
    "# Define a pattern for matching product types like 'dress'\n",
    "pattern = [{\"LOWER\": \"dress\"}]\n",
    "\n",
    "matcher.add(\"PRODUCT_TYPE\", [pattern])\n",
    "\n",
    "# Apply the matcher to the doc\n",
    "matches = matcher(doc)\n",
    "\n",
    "for match_id, start, end in matches:\n",
    "    matched_span = doc[start:end]\n",
    "    print(\"PRODUCT_TYPE: \",matched_span.text)"
   ]
  },
  {
   "cell_type": "code",
   "execution_count": null,
   "id": "95cfe377-6a13-4fea-8e41-d15e46651f1d",
   "metadata": {
    "jp-MarkdownHeadingCollapsed": true
   },
   "outputs": [],
   "source": [
    "# TODO:\n",
    "# Train a custom NER model.\n",
    "# create more custom entity rules\n",
    "# Add synonyms handling: \n",
    "#     For example, recognize that \"cheap\" means a \"low price\", or handle brand names.\n",
    "# Use dependency parsing to better understand relationships in the query.\n",
    "#     e.g., \"under $100\" refers to price.\n",
    "\n",
    "# Lowercases the text\n",
    "# Lemmatizes each token\n",
    "# Removes punctuation symbols\n",
    "# Removes stop words"
   ]
  }
 ],
 "metadata": {
  "kernelspec": {
   "display_name": "Python 3 (ipykernel)",
   "language": "python",
   "name": "python3"
  },
  "language_info": {
   "codemirror_mode": {
    "name": "ipython",
    "version": 3
   },
   "file_extension": ".py",
   "mimetype": "text/x-python",
   "name": "python",
   "nbconvert_exporter": "python",
   "pygments_lexer": "ipython3",
   "version": "3.12.5"
  }
 },
 "nbformat": 4,
 "nbformat_minor": 5
}
